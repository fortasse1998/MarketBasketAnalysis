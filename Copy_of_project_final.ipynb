{
  "cells": [
    {
      "cell_type": "markdown",
      "metadata": {
        "id": "vMLDo5RCjKjb"
      },
      "source": [
        "<a href=\"https://colab.research.google.com/github/Murataydinunimi/MarketBasketAnalysis-Pyspark/blob/main/MBA-PySpark-Aydin.ipynb\" target=\"_parent\"><img src=\"https://colab.research.google.com/assets/colab-badge.svg\" alt=\"Open In Colab\"/></a>"
      ]
    },
    {
      "cell_type": "markdown",
      "metadata": {
        "id": "ZVoXUmETb3sj"
      },
      "source": [
        "Finding frequent itemsets (IMDB) <br>\n",
        "Enki Muca<br>\n",
        "DSE 2021/2022"
      ]
    },
    {
      "cell_type": "code",
      "execution_count": null,
      "metadata": {
        "id": "X14AYntEb3sk"
      },
      "outputs": [],
      "source": [
        "# install Java8\n",
        "!apt-get install openjdk-8-jdk-headless -qq > /dev/null\n",
        "# download spark3.0.2\n",
        "!wget -q http://apache.osuosl.org/spark/spark-3.0.3/spark-3.0.3-bin-hadoop3.2.tgz\n",
        "\n",
        "# unzip it\n",
        "!tar xf spark-3.0.3-bin-hadoop3.2.tgz\n",
        "# install findspark \n",
        "!pip install -q findspark"
      ]
    },
    {
      "cell_type": "code",
      "execution_count": null,
      "metadata": {
        "colab": {
          "base_uri": "https://localhost:8080/"
        },
        "id": "w_513L7bxcK2",
        "outputId": "9ed2a7e8-d096-48bc-d9d5-474dd2810706"
      },
      "outputs": [
        {
          "output_type": "stream",
          "name": "stdout",
          "text": [
            "Requirement already satisfied: kaggle in /usr/local/lib/python3.7/dist-packages (1.5.12)\n",
            "Requirement already satisfied: six>=1.10 in /usr/local/lib/python3.7/dist-packages (from kaggle) (1.15.0)\n",
            "Requirement already satisfied: tqdm in /usr/local/lib/python3.7/dist-packages (from kaggle) (4.63.0)\n",
            "Requirement already satisfied: requests in /usr/local/lib/python3.7/dist-packages (from kaggle) (2.23.0)\n",
            "Requirement already satisfied: python-slugify in /usr/local/lib/python3.7/dist-packages (from kaggle) (6.1.1)\n",
            "Requirement already satisfied: certifi in /usr/local/lib/python3.7/dist-packages (from kaggle) (2021.10.8)\n",
            "Requirement already satisfied: urllib3 in /usr/local/lib/python3.7/dist-packages (from kaggle) (1.24.3)\n",
            "Requirement already satisfied: python-dateutil in /usr/local/lib/python3.7/dist-packages (from kaggle) (2.8.2)\n",
            "Requirement already satisfied: text-unidecode>=1.3 in /usr/local/lib/python3.7/dist-packages (from python-slugify->kaggle) (1.3)\n",
            "Requirement already satisfied: idna<3,>=2.5 in /usr/local/lib/python3.7/dist-packages (from requests->kaggle) (2.10)\n",
            "Requirement already satisfied: chardet<4,>=3.0.2 in /usr/local/lib/python3.7/dist-packages (from requests->kaggle) (3.0.4)\n"
          ]
        }
      ],
      "source": [
        "!pip install kaggle"
      ]
    },
    {
      "cell_type": "code",
      "execution_count": null,
      "metadata": {
        "id": "HjBC6Mq0xhmX"
      },
      "outputs": [],
      "source": [
        "# Kaggle API to download the dataset\n",
        "import os\n",
        "kaggle_api = {\"username\":\"murataydn\",\"key\":\"7c7468d4948d474d251b85a914a9cf8e\"}\n",
        "os.environ['KAGGLE_USERNAME'] = kaggle_api['username']\n",
        "os.environ['KAGGLE_KEY'] = kaggle_api['key'] "
      ]
    },
    {
      "cell_type": "code",
      "execution_count": null,
      "metadata": {
        "colab": {
          "base_uri": "https://localhost:8080/"
        },
        "id": "7j6TU88AxuE_",
        "outputId": "c7383025-a9d8-4ff0-a97e-0952cba7f48e"
      },
      "outputs": [
        {
          "output_type": "stream",
          "name": "stdout",
          "text": [
            "ukraine-russian-crisis-twitter-dataset-1-2-m-rows.zip: Skipping, found more recently modified local copy (use --force to force download)\n"
          ]
        }
      ],
      "source": [
        "!kaggle datasets download -d bwandowando/ukraine-russian-crisis-twitter-dataset-1-2-m-rows"
      ]
    },
    {
      "cell_type": "code",
      "execution_count": null,
      "metadata": {
        "colab": {
          "base_uri": "https://localhost:8080/"
        },
        "id": "Pig-H7V9xjPv",
        "outputId": "7c776363-4454-41e7-fec6-88a9a8fb600e"
      },
      "outputs": [
        {
          "metadata": {
            "tags": null
          },
          "name": "stdout",
          "output_type": "stream",
          "text": [
            "Archive:  ukraine-russian-crisis-twitter-dataset-1-2-m-rows.zip\n",
            "replace UkraineCombinedTweetsDeduped20220227-131611.csv.gzip? [y]es, [n]o, [A]ll, [N]one, [r]ename: "
          ]
        }
      ],
      "source": [
        "!unzip ukraine-russian-crisis-twitter-dataset-1-2-m-rows"
      ]
    },
    {
      "cell_type": "code",
      "execution_count": null,
      "metadata": {
        "id": "h3BEvUI8xkzH"
      },
      "outputs": [],
      "source": [
        "from mlxtend.frequent_patterns import apriori\n",
        "from mlxtend.frequent_patterns import association_rules\n",
        "import numpy as np\n",
        "import pandas as pd\n",
        "import csv\n",
        "import os\n"
      ]
    },
    {
      "cell_type": "code",
      "source": [
        "data_to_read = [\"UkraineCombinedTweetsDeduped_FEB28_part1.csv.gzip\",\n",
        "                \"UkraineCombinedTweetsDeduped_FEB28_part2.csv.gzip\",\n",
        "                \"UkraineCombinedTweetsDeduped_MAR01.csv.gzip\",\n",
        "                \"UkraineCombinedTweetsDeduped_MAR02.csv.gzip\",\n",
        "                \"UkraineCombinedTweetsDeduped_MAR03.csv.gzip\",\n",
        "                \"UkraineCombinedTweetsDeduped_MAR04.csv.gzip\",\n",
        "                \"UkraineCombinedTweetsDeduped_MAR05.csv.gzip\"]"
      ],
      "metadata": {
        "id": "TmW80GDccPr2"
      },
      "execution_count": null,
      "outputs": []
    },
    {
      "cell_type": "code",
      "source": [
        "data_collection = []\n",
        "\n",
        "columns = [\"userid\",\"text\",\"language\"]\n",
        "\n",
        "for data in data_to_read:\n",
        "\n",
        "\n",
        "  df = pd.read_csv(data, compression='gzip', index_col=0,encoding='utf-8', quoting=csv.QUOTE_ALL, low_memory=False)\n",
        "  df= df[columns]\n",
        "  data_collection.append(df)\n",
        "  print(f\"The data {data} has {len(df)} number of rows \")\n",
        "\n",
        "\n",
        "\n",
        "    \n",
        "    "
      ],
      "metadata": {
        "id": "LKauK17Ud2Vt",
        "outputId": "2b0337e4-2613-4d03-f347-2b8301b09708",
        "colab": {
          "base_uri": "https://localhost:8080/"
        }
      },
      "execution_count": null,
      "outputs": [
        {
          "output_type": "stream",
          "name": "stdout",
          "text": [
            "The data UkraineCombinedTweetsDeduped_FEB28_part1.csv.gzip has 237787 number of rows \n",
            "The data UkraineCombinedTweetsDeduped_FEB28_part2.csv.gzip has 140384 number of rows \n",
            "The data UkraineCombinedTweetsDeduped_MAR01.csv.gzip has 409279 number of rows \n",
            "The data UkraineCombinedTweetsDeduped_MAR02.csv.gzip has 417031 number of rows \n",
            "The data UkraineCombinedTweetsDeduped_MAR03.csv.gzip has 395772 number of rows \n",
            "The data UkraineCombinedTweetsDeduped_MAR04.csv.gzip has 480290 number of rows \n",
            "The data UkraineCombinedTweetsDeduped_MAR05.csv.gzip has 546780 number of rows \n"
          ]
        }
      ]
    },
    {
      "cell_type": "code",
      "execution_count": null,
      "metadata": {
        "colab": {
          "base_uri": "https://localhost:8080/"
        },
        "id": "LfX6ehLYxlWI",
        "outputId": "80ea412d-32cb-4ebc-8d13-37ef9ae60e9f"
      },
      "outputs": [
        {
          "output_type": "execute_result",
          "data": {
            "text/plain": [
              "(2627323, 3)"
            ]
          },
          "metadata": {},
          "execution_count": 48
        }
      ],
      "source": [
        "df_combined = pd.concat(data_collection, axis=0)\n",
        "df_combined.shape"
      ]
    },
    {
      "cell_type": "code",
      "execution_count": null,
      "metadata": {
        "colab": {
          "base_uri": "https://localhost:8080/"
        },
        "id": "vbNQ6AWrW-mZ",
        "outputId": "b9f605b6-1454-4d93-9720-f9f2133d84f0"
      },
      "outputs": [
        {
          "output_type": "execute_result",
          "data": {
            "text/plain": [
              "(853217, 3)"
            ]
          },
          "metadata": {},
          "execution_count": 49
        }
      ],
      "source": [
        "df_combined.drop_duplicates(subset=['text'],keep='last',inplace=True)\n",
        "df_combined.shape\n"
      ]
    },
    {
      "cell_type": "code",
      "execution_count": null,
      "metadata": {
        "colab": {
          "base_uri": "https://localhost:8080/"
        },
        "id": "ED9ggOiTX8nK",
        "outputId": "494e57d6-179c-49d3-c47f-de689bf377d8"
      },
      "outputs": [
        {
          "output_type": "execute_result",
          "data": {
            "text/plain": [
              "(511565, 3)"
            ]
          },
          "metadata": {},
          "execution_count": 50
        }
      ],
      "source": [
        "df_combined =  df_combined[df_combined[\"language\"] == \"en\"]\n",
        "df_combined.shape"
      ]
    },
    {
      "cell_type": "code",
      "execution_count": null,
      "metadata": {
        "colab": {
          "base_uri": "https://localhost:8080/"
        },
        "id": "YgQtEcfvYOUC",
        "outputId": "7edf45ea-226e-4d54-8f85-43068ac9faf7"
      },
      "outputs": [
        {
          "output_type": "execute_result",
          "data": {
            "text/plain": [
              "Index(['userid', 'text', 'language'], dtype='object')"
            ]
          },
          "metadata": {},
          "execution_count": 51
        }
      ],
      "source": [
        "df.columns"
      ]
    },
    {
      "cell_type": "code",
      "source": [
        "df_combined.head()"
      ],
      "metadata": {
        "id": "tiognUZBfGXs",
        "outputId": "531e2007-83bd-4c9e-b3db-6915d7604801",
        "colab": {
          "base_uri": "https://localhost:8080/",
          "height": 206
        }
      },
      "execution_count": null,
      "outputs": [
        {
          "output_type": "execute_result",
          "data": {
            "text/plain": [
              "                      userid  \\\n",
              "1498827           2170195636   \n",
              "1498832  1426649188222308355   \n",
              "1498834           2544474997   \n",
              "1498845           2225131633   \n",
              "1498851            867133740   \n",
              "\n",
              "                                                      text language  \n",
              "1498827  Closer look at the Vasylkiv oil depot fire whi...       en  \n",
              "1498832  Ireland to close its airspace to Russian air t...       en  \n",
              "1498834  Ukrainian National Anthem with English transla...       en  \n",
              "1498845  @FoxNews Everything COUNTS🙏\\nwhen #Putin puts ...       en  \n",
              "1498851  @carlbildt Gosh! Now #Putin's doing the two fl...       en  "
            ],
            "text/html": [
              "\n",
              "  <div id=\"df-aafd3d99-6d36-4de7-9928-68b970ab1f00\">\n",
              "    <div class=\"colab-df-container\">\n",
              "      <div>\n",
              "<style scoped>\n",
              "    .dataframe tbody tr th:only-of-type {\n",
              "        vertical-align: middle;\n",
              "    }\n",
              "\n",
              "    .dataframe tbody tr th {\n",
              "        vertical-align: top;\n",
              "    }\n",
              "\n",
              "    .dataframe thead th {\n",
              "        text-align: right;\n",
              "    }\n",
              "</style>\n",
              "<table border=\"1\" class=\"dataframe\">\n",
              "  <thead>\n",
              "    <tr style=\"text-align: right;\">\n",
              "      <th></th>\n",
              "      <th>userid</th>\n",
              "      <th>text</th>\n",
              "      <th>language</th>\n",
              "    </tr>\n",
              "  </thead>\n",
              "  <tbody>\n",
              "    <tr>\n",
              "      <th>1498827</th>\n",
              "      <td>2170195636</td>\n",
              "      <td>Closer look at the Vasylkiv oil depot fire whi...</td>\n",
              "      <td>en</td>\n",
              "    </tr>\n",
              "    <tr>\n",
              "      <th>1498832</th>\n",
              "      <td>1426649188222308355</td>\n",
              "      <td>Ireland to close its airspace to Russian air t...</td>\n",
              "      <td>en</td>\n",
              "    </tr>\n",
              "    <tr>\n",
              "      <th>1498834</th>\n",
              "      <td>2544474997</td>\n",
              "      <td>Ukrainian National Anthem with English transla...</td>\n",
              "      <td>en</td>\n",
              "    </tr>\n",
              "    <tr>\n",
              "      <th>1498845</th>\n",
              "      <td>2225131633</td>\n",
              "      <td>@FoxNews Everything COUNTS🙏\\nwhen #Putin puts ...</td>\n",
              "      <td>en</td>\n",
              "    </tr>\n",
              "    <tr>\n",
              "      <th>1498851</th>\n",
              "      <td>867133740</td>\n",
              "      <td>@carlbildt Gosh! Now #Putin's doing the two fl...</td>\n",
              "      <td>en</td>\n",
              "    </tr>\n",
              "  </tbody>\n",
              "</table>\n",
              "</div>\n",
              "      <button class=\"colab-df-convert\" onclick=\"convertToInteractive('df-aafd3d99-6d36-4de7-9928-68b970ab1f00')\"\n",
              "              title=\"Convert this dataframe to an interactive table.\"\n",
              "              style=\"display:none;\">\n",
              "        \n",
              "  <svg xmlns=\"http://www.w3.org/2000/svg\" height=\"24px\"viewBox=\"0 0 24 24\"\n",
              "       width=\"24px\">\n",
              "    <path d=\"M0 0h24v24H0V0z\" fill=\"none\"/>\n",
              "    <path d=\"M18.56 5.44l.94 2.06.94-2.06 2.06-.94-2.06-.94-.94-2.06-.94 2.06-2.06.94zm-11 1L8.5 8.5l.94-2.06 2.06-.94-2.06-.94L8.5 2.5l-.94 2.06-2.06.94zm10 10l.94 2.06.94-2.06 2.06-.94-2.06-.94-.94-2.06-.94 2.06-2.06.94z\"/><path d=\"M17.41 7.96l-1.37-1.37c-.4-.4-.92-.59-1.43-.59-.52 0-1.04.2-1.43.59L10.3 9.45l-7.72 7.72c-.78.78-.78 2.05 0 2.83L4 21.41c.39.39.9.59 1.41.59.51 0 1.02-.2 1.41-.59l7.78-7.78 2.81-2.81c.8-.78.8-2.07 0-2.86zM5.41 20L4 18.59l7.72-7.72 1.47 1.35L5.41 20z\"/>\n",
              "  </svg>\n",
              "      </button>\n",
              "      \n",
              "  <style>\n",
              "    .colab-df-container {\n",
              "      display:flex;\n",
              "      flex-wrap:wrap;\n",
              "      gap: 12px;\n",
              "    }\n",
              "\n",
              "    .colab-df-convert {\n",
              "      background-color: #E8F0FE;\n",
              "      border: none;\n",
              "      border-radius: 50%;\n",
              "      cursor: pointer;\n",
              "      display: none;\n",
              "      fill: #1967D2;\n",
              "      height: 32px;\n",
              "      padding: 0 0 0 0;\n",
              "      width: 32px;\n",
              "    }\n",
              "\n",
              "    .colab-df-convert:hover {\n",
              "      background-color: #E2EBFA;\n",
              "      box-shadow: 0px 1px 2px rgba(60, 64, 67, 0.3), 0px 1px 3px 1px rgba(60, 64, 67, 0.15);\n",
              "      fill: #174EA6;\n",
              "    }\n",
              "\n",
              "    [theme=dark] .colab-df-convert {\n",
              "      background-color: #3B4455;\n",
              "      fill: #D2E3FC;\n",
              "    }\n",
              "\n",
              "    [theme=dark] .colab-df-convert:hover {\n",
              "      background-color: #434B5C;\n",
              "      box-shadow: 0px 1px 3px 1px rgba(0, 0, 0, 0.15);\n",
              "      filter: drop-shadow(0px 1px 2px rgba(0, 0, 0, 0.3));\n",
              "      fill: #FFFFFF;\n",
              "    }\n",
              "  </style>\n",
              "\n",
              "      <script>\n",
              "        const buttonEl =\n",
              "          document.querySelector('#df-aafd3d99-6d36-4de7-9928-68b970ab1f00 button.colab-df-convert');\n",
              "        buttonEl.style.display =\n",
              "          google.colab.kernel.accessAllowed ? 'block' : 'none';\n",
              "\n",
              "        async function convertToInteractive(key) {\n",
              "          const element = document.querySelector('#df-aafd3d99-6d36-4de7-9928-68b970ab1f00');\n",
              "          const dataTable =\n",
              "            await google.colab.kernel.invokeFunction('convertToInteractive',\n",
              "                                                     [key], {});\n",
              "          if (!dataTable) return;\n",
              "\n",
              "          const docLinkHtml = 'Like what you see? Visit the ' +\n",
              "            '<a target=\"_blank\" href=https://colab.research.google.com/notebooks/data_table.ipynb>data table notebook</a>'\n",
              "            + ' to learn more about interactive tables.';\n",
              "          element.innerHTML = '';\n",
              "          dataTable['output_type'] = 'display_data';\n",
              "          await google.colab.output.renderOutput(dataTable, element);\n",
              "          const docLink = document.createElement('div');\n",
              "          docLink.innerHTML = docLinkHtml;\n",
              "          element.appendChild(docLink);\n",
              "        }\n",
              "      </script>\n",
              "    </div>\n",
              "  </div>\n",
              "  "
            ]
          },
          "metadata": {},
          "execution_count": 52
        }
      ]
    },
    {
      "cell_type": "code",
      "execution_count": null,
      "metadata": {
        "colab": {
          "base_uri": "https://localhost:8080/"
        },
        "id": "vTU2xce9ybGv",
        "outputId": "6691819d-f8e7-47f2-e09b-12eea6b8d011"
      },
      "outputs": [
        {
          "output_type": "stream",
          "name": "stdout",
          "text": [
            "Requirement already satisfied: pyspark in /usr/local/lib/python3.7/dist-packages (3.2.1)\n",
            "Requirement already satisfied: py4j==0.10.9.3 in /usr/local/lib/python3.7/dist-packages (from pyspark) (0.10.9.3)\n"
          ]
        }
      ],
      "source": [
        "!pip install pyspark\n"
      ]
    },
    {
      "cell_type": "code",
      "execution_count": null,
      "metadata": {
        "id": "EK83zGlSyOzo"
      },
      "outputs": [],
      "source": [
        "\n",
        "from pyspark import SparkConf, SparkContext\n",
        "from pyspark.sql import SparkSession\n",
        "import seaborn as sns\n",
        "import matplotlib.pyplot as plt\n"
      ]
    },
    {
      "cell_type": "code",
      "execution_count": null,
      "metadata": {
        "id": "I54oQxggzKja"
      },
      "outputs": [],
      "source": [
        "spark = SparkSession.builder.enableHiveSupport().getOrCreate()\n"
      ]
    },
    {
      "cell_type": "code",
      "execution_count": null,
      "metadata": {
        "id": "3wPZ7jYAzMgz"
      },
      "outputs": [],
      "source": [
        "\n",
        "from pyspark.sql import SQLContext\n",
        "\n",
        "spark.conf.set(\"spark.sql.execution.arrow.pyspark.enabled\", \"true\")\n",
        "\n",
        "\n",
        "\n"
      ]
    },
    {
      "cell_type": "code",
      "execution_count": null,
      "metadata": {
        "id": "loHnu4CJzPHB"
      },
      "outputs": [],
      "source": [
        "sc = spark.sparkContext\n"
      ]
    },
    {
      "cell_type": "code",
      "execution_count": null,
      "metadata": {
        "colab": {
          "base_uri": "https://localhost:8080/"
        },
        "id": "cBfd5xJSzQkJ",
        "outputId": "b1e6262b-f3a7-4fc3-8b50-3fe5f59d2cb6"
      },
      "outputs": [
        {
          "output_type": "stream",
          "name": "stdout",
          "text": [
            "+-------------------+--------------------+--------+\n",
            "|             userid|                text|language|\n",
            "+-------------------+--------------------+--------+\n",
            "|         2170195636|Closer look at th...|      en|\n",
            "|1426649188222308355|Ireland to close ...|      en|\n",
            "|         2544474997|Ukrainian Nationa...|      en|\n",
            "|         2225131633|@FoxNews Everythi...|      en|\n",
            "|          867133740|@carlbildt Gosh! ...|      en|\n",
            "|1461557439011168260|There are a lot o...|      en|\n",
            "|           65671909|Not too fast budd...|      en|\n",
            "| 895360710623887360|have you noticed ...|      en|\n",
            "|1370059737551736842|they are really m...|      en|\n",
            "|         3395130700|I can not believe...|      en|\n",
            "+-------------------+--------------------+--------+\n",
            "only showing top 10 rows\n",
            "\n"
          ]
        }
      ],
      "source": [
        "spark_eng=spark.createDataFrame(df_combined) \n",
        "spark_eng.createOrReplaceTempView(\"spark_eng\")\n",
        "spark_eng.show(10)"
      ]
    },
    {
      "cell_type": "code",
      "execution_count": null,
      "metadata": {
        "colab": {
          "base_uri": "https://localhost:8080/"
        },
        "id": "PInnYYVparlK",
        "outputId": "6e1892d6-dfe2-409d-ec8b-7a6abf182756"
      },
      "outputs": [
        {
          "output_type": "execute_result",
          "data": {
            "text/plain": [
              "DataFrame[userid: bigint, text: string, language: string]"
            ]
          },
          "metadata": {},
          "execution_count": 58
        }
      ],
      "source": [
        "spark_eng.cache()"
      ]
    },
    {
      "cell_type": "code",
      "execution_count": null,
      "metadata": {
        "colab": {
          "base_uri": "https://localhost:8080/"
        },
        "id": "WSuMO_bBzgAS",
        "outputId": "950f148c-0665-466c-a8f9-caaf7660e4bb"
      },
      "outputs": [
        {
          "output_type": "stream",
          "name": "stdout",
          "text": [
            "+-------------------+--------------------+\n",
            "|             userid|                text|\n",
            "+-------------------+--------------------+\n",
            "|         2170195636|closer look at th...|\n",
            "|1426649188222308355|ireland to close ...|\n",
            "|         2544474997|ukrainian nationa...|\n",
            "|         2225131633|foxnews everythin...|\n",
            "|          867133740|carlbildt gosh no...|\n",
            "+-------------------+--------------------+\n",
            "only showing top 5 rows\n",
            "\n"
          ]
        }
      ],
      "source": [
        "from pyspark.sql.functions import regexp_replace, trim, col, lower\n",
        "\n",
        "def removePunctuation(column):\n",
        "   return lower(trim(regexp_replace(column,'\\\\p{Punct}',''))).alias('sentence')\n",
        "\n",
        "spark_eng = spark_eng.select(\"userid\",removePunctuation(col('text')).alias(\"text\"))\n",
        "spark_eng.show(5)"
      ]
    },
    {
      "cell_type": "code",
      "execution_count": null,
      "metadata": {
        "colab": {
          "base_uri": "https://localhost:8080/"
        },
        "id": "2GaRrNjmzp-8",
        "outputId": "c8a05615-975e-4046-b0e2-8c0aa6e74a34"
      },
      "outputs": [
        {
          "output_type": "stream",
          "name": "stdout",
          "text": [
            "+-------------------+--------------------+--------------------+\n",
            "|             userid|                text|         words_token|\n",
            "+-------------------+--------------------+--------------------+\n",
            "|         2170195636|closer look at th...|[closer, look, at...|\n",
            "|1426649188222308355|ireland to close ...|[ireland, to, clo...|\n",
            "|         2544474997|ukrainian nationa...|[ukrainian, natio...|\n",
            "|         2225131633|foxnews everythin...|[foxnews, everyth...|\n",
            "|          867133740|carlbildt gosh no...|[carlbildt, gosh,...|\n",
            "|1461557439011168260|there are a lot o...|[there, are, a, l...|\n",
            "|           65671909|not too fast budd...|[not, too, fast, ...|\n",
            "| 895360710623887360|have you noticed ...|[have, you, notic...|\n",
            "|1370059737551736842|they are really m...|[they, are, reall...|\n",
            "|         3395130700|i can not believe...|[i, can, not, bel...|\n",
            "| 947512131729096705|georgegalloway wa...|[georgegalloway, ...|\n",
            "|         2571956359|352 ukrainians am...|[352, ukrainians,...|\n",
            "|1466368139357302786|anyone know how t...|[anyone, know, ho...|\n",
            "|           18260331|another soviet ru...|[another, soviet,...|\n",
            "|          534720794|trollbot activity...|[trollbot, activi...|\n",
            "|          552170788|glennkirschner2 j...|[glennkirschner2,...|\n",
            "|           25928678|russia’s central ...|[russia’s, centra...|\n",
            "| 762993236617076736|nato warns russia...|[nato, warns, rus...|\n",
            "|          287332525|anonymous the hac...|[anonymous, the, ...|\n",
            "|1475243906476380161|repboebert a real...|[repboebert, a, r...|\n",
            "+-------------------+--------------------+--------------------+\n",
            "only showing top 20 rows\n",
            "\n"
          ]
        }
      ],
      "source": [
        "from pyspark.ml.feature import Tokenizer, StopWordsRemover\n",
        "from pyspark.sql.functions import trim,split,explode,col\n",
        "\n",
        "\n",
        "tokenizer = Tokenizer(inputCol='text', outputCol='words_token')\n",
        "spark_eng = spark_eng.withColumn(\"text\", trim(col(\"text\")))\n",
        "spark_eng = tokenizer.transform(spark_eng)\n",
        "spark_eng.show()"
      ]
    },
    {
      "cell_type": "code",
      "execution_count": null,
      "metadata": {
        "colab": {
          "base_uri": "https://localhost:8080/"
        },
        "id": "xQMJO_3qPLAe",
        "outputId": "23f6ad3b-484b-4059-ac42-95ac2384b795"
      },
      "outputs": [
        {
          "output_type": "stream",
          "name": "stdout",
          "text": [
            "+----------------------------------------------------------------------------------------------------------------------------------------------------------------------------------------------------------------------------------------------------------------------------+\n",
            "|words_clean                                                                                                                                                                                                                                                                 |\n",
            "+----------------------------------------------------------------------------------------------------------------------------------------------------------------------------------------------------------------------------------------------------------------------------+\n",
            "|[closer, look, vasylkiv, oil, depot, fire, occured, last, night, result, russian, strikes, osint, russia, ukraine, httpstcoe0re0foxqf]                                                                                                                                      |\n",
            "|[ireland, close, airspace, russian, air, traffic, ireland, russia, aviation, travelwarning, httpstco3pby3iejqx, httpstco5hqjb7vrxj]                                                                                                                                         |\n",
            "|[ukrainian, national, anthem, english, translation, subtitles, , httpstcokrfq0jlhzv, , ukraine, eukraine, ukrainerussiacrisis, ukrainecrisis, russiainvadedukraine, russia, russiaukraineconflict, russiaukraine, stopthewar]                                               |\n",
            "|[foxnews, everything, counts🙏, putin, puts, 6000, nukes, picture, httpstco38q80zu2h2]                                                                                                                                                                                      |\n",
            "|[carlbildt, gosh, putins, two, flag, routine, comeon, whos, going, first, statesman, ditch, flags]                                                                                                                                                                          |\n",
            "|[lot, airstrikes, kiev, tonight, watch, live, , httpstcoqfxaqoqul8, , kievukraine, kievnow, ukraineunderattack, ukrainewar, ukraineinvasion, ukrainerussia, live, ukrainelive, russiaukraineconflict, russiaukraine, ukrainians, kyiv, ukrainerussiawar, httpstconqnxvvp2x9]|\n",
            "|[fast, buddy, dont, fall, narratives, easily, think, angry, defeat, ukraine, angry, irans, upper, hand, jcpoa, negotiations, apartheidisrael, iran, russia, , china, , puppet, ukraine, , , ciaisisnato, httpstco0ykkgrz3po]                                                |\n",
            "|[noticed, many, profiles, world, wide, social, media, sharing, abolishnato, prorepublican, promaga, prorussia, profiles, 202020212022, notice, post, bot, related, stuff, copy, amp, paste, amp, , easy, make, fake, accounts]                                              |\n",
            "|[really, making, hard, feel, sorry, support, , modifascist, boycottindianproducts, , freepalestine, bds, savesilwan, مقاطعهالمنتجاتالفرنسية489, , boycottfrenchproducts489, ukraine, russia, httpstcob0frvwb8bb]                                                            |\n",
            "|[believe, man, fights, sovereignty, country, mortgaging, country, united, states🤔, somehow, salute, man👍, , russiaukrainewar, standwithrussia, fuckus, httpstco9vr8eituyc]                                                                                                |\n",
            "|[georgegalloway, washington, using, ukraine, lock, russia, europe, wants, , nordstream, suspended, supply, gas, ship, expensive, defies, logic, germany, cooperate, interests, ukraineunderattack]                                                                          |\n",
            "|[352, ukrainians, amp, 14, ukrainian, children, died, since, wednesday, blood, putin’s, hands, 🙏🏼🌻🇺🇦🌻🙏🏼, , plz, pray, ukraine, amp, donate, care, cause]                                                                                                            |\n",
            "|[anyone, know, true, supposedly, open, flood, russian, propaganda, sites, amp, take, , , russiaukrainewar, ukraine, cyberattacks, , , httpstco3qjryrtcqk]                                                                                                                   |\n",
            "|[another, soviet, russiaafghan, war, making, muslim, volunteers, come, fight, soviet, russia, mujahideen, sent, pakistan, saudiarabia, egypt, 1980s, , prelude, russian, disintegration, 🤔, , ukrainerussiawar, russia, ukraine, httpstco5jfujvhfqx]                       |\n",
            "|[trollbot, activity, seems, slow, today, putinhitler, fire, need, check, moscow, news, feed, see, citizens, accidently, fallen, windows, today, putinswar, putinswarcrimes, standwithukraine, 🇺🇦✊🌻, httpstcounx37celcc]                                                  |\n",
            "|[glennkirschner2, remember, , donald, trump, putins, nuts, knows, putin, help, get, elected, 2024, httpstcohtdgwsywtm]                                                                                                                                                      |\n",
            "|[russia’s, central, bank, telling, foreigners, able, sell, russian, stocks, market, opens, , ukraine, ukraineunderattack, ukrainewar, russia, ukrainerussiacrisis, ukrainecrisis, russiaukraine]                                                                            |\n",
            "|[nato, warns, russia, dire, consequences, fail, wear, masks, follow, covid, protocols, enter, ukraine, russia, ukraine]                                                                                                                                                     |\n",
            "|[anonymous, hacker, collective, declared, cyberwar, russia, , ukraine, , guardian, httpstcoettc2kyyfz]                                                                                                                                                                      |\n",
            "|[repboebert, real, badass, dont, talk, talk, shes, walkin, walk, , russianwar, 🌻, httpstcoldarheohkj]                                                                                                                                                                      |\n",
            "+----------------------------------------------------------------------------------------------------------------------------------------------------------------------------------------------------------------------------------------------------------------------------+\n",
            "only showing top 20 rows\n",
            "\n"
          ]
        }
      ],
      "source": [
        "remover = StopWordsRemover(inputCol='words_token', outputCol='words_clean')\n",
        "spark_eng = remover.transform(spark_eng).select(\"userid\",\"text\",'words_clean')\n",
        "spark_eng.select(\"words_clean\").show(truncate=False)\n"
      ]
    },
    {
      "cell_type": "code",
      "execution_count": null,
      "metadata": {
        "colab": {
          "base_uri": "https://localhost:8080/"
        },
        "id": "-mEbwHbMPLN5",
        "outputId": "c8ef5d18-cfb9-47af-c0e4-4357a0bc487d"
      },
      "outputs": [
        {
          "output_type": "stream",
          "name": "stdout",
          "text": [
            "+-------------------+--------------------+--------------------+\n",
            "|             userid|                text|         words_clean|\n",
            "+-------------------+--------------------+--------------------+\n",
            "|         2170195636|closer look at th...|[closer, look, va...|\n",
            "|1426649188222308355|ireland to close ...|[ireland, close, ...|\n",
            "|         2544474997|ukrainian nationa...|[ukrainian, natio...|\n",
            "|         2225131633|foxnews everythin...|[foxnews, everyth...|\n",
            "|          867133740|carlbildt gosh no...|[carlbildt, gosh,...|\n",
            "|1461557439011168260|there are a lot o...|[lot, airstrikes,...|\n",
            "|           65671909|not too fast budd...|[fast, buddy, don...|\n",
            "| 895360710623887360|have you noticed ...|[noticed, many, p...|\n",
            "|1370059737551736842|they are really m...|[really, making, ...|\n",
            "|         3395130700|i can not believe...|[believe, man, fi...|\n",
            "+-------------------+--------------------+--------------------+\n",
            "only showing top 10 rows\n",
            "\n"
          ]
        }
      ],
      "source": [
        "from pyspark.sql.functions import expr\n",
        "\n",
        "spark_eng = spark_eng.withColumn(\"words_clean\", expr(\"filter(words_clean, elem -> elem != '')\"))\n",
        "spark_eng.show(10)"
      ]
    },
    {
      "cell_type": "code",
      "execution_count": null,
      "metadata": {
        "colab": {
          "base_uri": "https://localhost:8080/"
        },
        "id": "dAyvzyf0PLQt",
        "outputId": "48784660-1003-449c-d31a-02b362aa73a1"
      },
      "outputs": [
        {
          "output_type": "stream",
          "name": "stdout",
          "text": [
            "+-------------------+--------------------+--------------------+\n",
            "|             userid|                text|         words_clean|\n",
            "+-------------------+--------------------+--------------------+\n",
            "|         2170195636|closer look at th...|[result, look, st...|\n",
            "|1426649188222308355|ireland to close ...|[httpstco5hqjb7vr...|\n",
            "|         2544474997|ukrainian nationa...|[ukrainerussiacri...|\n",
            "|         2225131633|foxnews everythin...|[nukes, counts🙏,...|\n",
            "|          867133740|carlbildt gosh no...|[two, flags, puti...|\n",
            "|1461557439011168260|there are a lot o...|[kievukraine, htt...|\n",
            "|           65671909|not too fast budd...|[hand, fast, iran...|\n",
            "| 895360710623887360|have you noticed ...|[paste, stuff, co...|\n",
            "|1370059737551736842|they are really m...|[really, savesilw...|\n",
            "|         3395130700|i can not believe...|[fuckus, united, ...|\n",
            "+-------------------+--------------------+--------------------+\n",
            "only showing top 10 rows\n",
            "\n"
          ]
        }
      ],
      "source": [
        "from pyspark.sql.functions import udf\n",
        "from pyspark.sql.types import ArrayType,StringType\n",
        "\n",
        "get_uniques=udf(lambda x: list(set(x)), ArrayType(StringType()))\n",
        "\n",
        "spark_eng = spark_eng.withColumn(\"words_clean\", get_uniques(spark_eng.words_clean))\n",
        "spark_eng.show(10)"
      ]
    },
    {
      "cell_type": "code",
      "execution_count": null,
      "metadata": {
        "colab": {
          "base_uri": "https://localhost:8080/"
        },
        "id": "6F0YFckk7VJJ",
        "outputId": "1296bbed-5d24-4bae-d006-381b9a9142b3"
      },
      "outputs": [
        {
          "output_type": "stream",
          "name": "stdout",
          "text": [
            "+-------------------+-----+\n",
            "|             userid|count|\n",
            "+-------------------+-----+\n",
            "|1221797851258163200| 1113|\n",
            "|           88196314|  667|\n",
            "|1260888402993598467|  544|\n",
            "|         4828915804|  400|\n",
            "|1164907412630827008|  346|\n",
            "|1456228393234493446|  337|\n",
            "| 915351016366845952|  334|\n",
            "|1178811384387293187|  316|\n",
            "|1490088025430315012|  297|\n",
            "|1470034927609696259|  296|\n",
            "+-------------------+-----+\n",
            "only showing top 10 rows\n",
            "\n"
          ]
        }
      ],
      "source": [
        "num_baskets = spark_eng.groupBy(\"userid\").count()\n",
        "num_baskets.orderBy(\"count\",ascending=False).show(10)"
      ]
    },
    {
      "cell_type": "code",
      "execution_count": null,
      "metadata": {
        "colab": {
          "base_uri": "https://localhost:8080/"
        },
        "id": "IZZY9W2c6fBW",
        "outputId": "3f4a8f88-c3f3-489e-cf5e-2b744762477d"
      },
      "outputs": [
        {
          "output_type": "stream",
          "name": "stdout",
          "text": [
            "+-------------------+-------------+\n",
            "|             userid|Numberofwords|\n",
            "+-------------------+-------------+\n",
            "|1221797851258163200|        25500|\n",
            "|1260888402993598467|         9451|\n",
            "|           88196314|         7094|\n",
            "|         4828915804|         6764|\n",
            "|1164907412630827008|         5922|\n",
            "|1284576972438478849|         5679|\n",
            "|1178811384387293187|         5533|\n",
            "|1290210901543596035|         5410|\n",
            "|1493243178933051392|         4940|\n",
            "|1203552378382934016|         4902|\n",
            "+-------------------+-------------+\n",
            "only showing top 10 rows\n",
            "\n"
          ]
        }
      ],
      "source": [
        "from pyspark.sql.functions import size, explode, col, split\n",
        "from pyspark.sql import functions as F\n",
        "\n",
        "num_items = spark_eng.select('*',size('words_clean').alias('Numberofwords'))\n",
        "num_items =num_items.groupby(\"userid\").agg(F.sum(\"Numberofwords\").alias('Numberofwords')).orderBy(\"Numberofwords\",ascending=False)\n",
        "num_items.show(10)"
      ]
    },
    {
      "cell_type": "code",
      "execution_count": null,
      "metadata": {
        "colab": {
          "base_uri": "https://localhost:8080/"
        },
        "id": "rsranND06ko0",
        "outputId": "d86171e5-b963-42cd-f082-2733ca153105"
      },
      "outputs": [
        {
          "output_type": "execute_result",
          "data": {
            "text/plain": [
              "8657149"
            ]
          },
          "metadata": {},
          "execution_count": 66
        }
      ],
      "source": [
        "num_items.agg(F.sum(\"Numberofwords\")).collect()[0][0]\n"
      ]
    },
    {
      "cell_type": "code",
      "execution_count": null,
      "metadata": {
        "colab": {
          "base_uri": "https://localhost:8080/"
        },
        "id": "8RQIpSrt7eQQ",
        "outputId": "b8bb624a-e6a3-42b6-d165-9bbc9e1f52bf"
      },
      "outputs": [
        {
          "output_type": "stream",
          "name": "stdout",
          "text": [
            "+--------------------+--------------------+\n",
            "|                text|         words_clean|\n",
            "+--------------------+--------------------+\n",
            "|closer look at th...|[result, look, st...|\n",
            "|ireland to close ...|[httpstco5hqjb7vr...|\n",
            "|ukrainian nationa...|[ukrainerussiacri...|\n",
            "|foxnews everythin...|[nukes, counts🙏,...|\n",
            "|carlbildt gosh no...|[two, flags, puti...|\n",
            "|there are a lot o...|[kievukraine, htt...|\n",
            "|not too fast budd...|[hand, fast, iran...|\n",
            "|have you noticed ...|[paste, stuff, co...|\n",
            "|they are really m...|[really, savesilw...|\n",
            "|i can not believe...|[fuckus, united, ...|\n",
            "|georgegalloway wa...|[logic, europe, i...|\n",
            "|352 ukrainians am...|[14, pray, blood,...|\n",
            "|anyone know how t...|[httpstco3qjryrtc...|\n",
            "|another soviet ru...|[prelude, another...|\n",
            "|trollbot activity...|[feed, accidently...|\n",
            "|glennkirschner2 j...|[nuts, get, donal...|\n",
            "|russia’s central ...|[ukraineunderatta...|\n",
            "|nato warns russia...|[dire, masks, fol...|\n",
            "|anonymous the hac...|[hacker, collecti...|\n",
            "|repboebert a real...|[shes, walkin, wa...|\n",
            "+--------------------+--------------------+\n",
            "only showing top 20 rows\n",
            "\n"
          ]
        }
      ],
      "source": [
        "spark_eng = spark_eng.drop(\"userid\")\n",
        "spark_eng.show()"
      ]
    },
    {
      "cell_type": "code",
      "execution_count": null,
      "metadata": {
        "id": "epzG3kUs4TsC"
      },
      "outputs": [],
      "source": [
        "import time\n",
        "from tqdm import tqdm\n",
        "from pyspark.ml.fpm import FPGrowth"
      ]
    },
    {
      "cell_type": "code",
      "execution_count": null,
      "metadata": {
        "colab": {
          "base_uri": "https://localhost:8080/"
        },
        "id": "1IIx7EhGz-nw",
        "outputId": "0d54fa65-5e1e-4272-86a2-064b36bd4c19"
      },
      "outputs": [
        {
          "output_type": "stream",
          "name": "stderr",
          "text": [
            "100%|██████████| 5/5 [07:21<00:00, 88.38s/it]\n"
          ]
        }
      ],
      "source": [
        "np.random.seed(1)\n",
        "# Try different thresholds for minimum support \n",
        "th_res = [0.01,0.02,0.06,0.09,0.1]\n",
        "fpgrowth_time_res = {}\n",
        "\n",
        "for th in tqdm( th_res ):\n",
        "\n",
        "  #key = str(round(th*1000))\n",
        "\n",
        "  fpGrowth = FPGrowth(itemsCol=\"words_clean\", minSupport = th)\n",
        "\n",
        "  # compute time difference\n",
        "  start_time = time.time()\n",
        "  model = fpGrowth.fit(spark_eng)\n",
        "\n",
        "  fpgrowth_time_res[th] = time.time() - start_time\n"
      ]
    },
    {
      "cell_type": "code",
      "execution_count": null,
      "metadata": {
        "colab": {
          "base_uri": "https://localhost:8080/"
        },
        "id": "wZufXUgEIXvt",
        "outputId": "c03cb745-437b-4d56-a7c3-892a368f5652"
      },
      "outputs": [
        {
          "output_type": "execute_result",
          "data": {
            "text/plain": [
              "{0.01: 97.76321315765381,\n",
              " 0.02: 85.43229508399963,\n",
              " 0.06: 84.3704743385315,\n",
              " 0.09: 89.57898211479187,\n",
              " 0.1: 84.66933679580688}"
            ]
          },
          "metadata": {},
          "execution_count": 32
        }
      ],
      "source": [
        "fpgrowth_time_res"
      ]
    },
    {
      "cell_type": "code",
      "execution_count": null,
      "metadata": {
        "colab": {
          "base_uri": "https://localhost:8080/"
        },
        "id": "LJgsDBTtFuvF",
        "outputId": "bdea375f-6722-4117-c686-312bdf2af934"
      },
      "outputs": [
        {
          "output_type": "stream",
          "name": "stdout",
          "text": [
            "+---------+---------------------+\n",
            "|Threshold|Time Elapsed(seconds)|\n",
            "+---------+---------------------+\n",
            "|     0.01|    97.76321315765381|\n",
            "|     0.02|    85.43229508399963|\n",
            "|     0.06|     84.3704743385315|\n",
            "|     0.09|    89.57898211479187|\n",
            "|      0.1|    84.66933679580688|\n",
            "+---------+---------------------+\n",
            "\n"
          ]
        }
      ],
      "source": [
        "from pyspark.sql.types import StructType,StructField\n",
        "\n",
        "fp_th_res = spark.createDataFrame(fpgrowth_time_res.items(), \n",
        "                      schema=StructType(fields=[\n",
        "                          StructField(\"Threshold\", StringType()), \n",
        "                          StructField(\"Time Elapsed(seconds)\", StringType())]))\n",
        "fp_th_res.show()"
      ]
    },
    {
      "cell_type": "code",
      "execution_count": null,
      "metadata": {
        "colab": {
          "base_uri": "https://localhost:8080/"
        },
        "id": "Undg3dSebk35",
        "outputId": "08e2c193-64e6-4ed8-f172-eaf16da3dde7"
      },
      "outputs": [
        {
          "output_type": "stream",
          "name": "stderr",
          "text": [
            "100%|██████████| 5/5 [03:56<00:00, 47.37s/it]\n"
          ]
        }
      ],
      "source": [
        "# Try different fraction of the dataframe\n",
        "size_sample = [0.1,0.3,0.5,0.7,0.9]\n",
        "fpgrowth_time_res_frac = {}\n",
        "for fr in tqdm(size_sample):\n",
        "    # extract a fraction of the dataframe\n",
        "    df_frac = spark_eng.sample(False, fr, seed = 1)\n",
        "    fpGrowth = FPGrowth(itemsCol = 'words_clean', minSupport = 0.02)\n",
        "    start_time = time.time()\n",
        "    model = fpGrowth.fit(df_frac)   \n",
        "    fpgrowth_time_res_frac[fr] = time.time() - start_time"
      ]
    },
    {
      "cell_type": "code",
      "execution_count": null,
      "metadata": {
        "colab": {
          "base_uri": "https://localhost:8080/"
        },
        "id": "yfkdqMC6czU0",
        "outputId": "c5843a47-cddb-4489-a461-eb3519aadb82"
      },
      "outputs": [
        {
          "output_type": "stream",
          "name": "stdout",
          "text": [
            "+--------+---------------------+\n",
            "|Fraction|Time Elapsed(seconds)|\n",
            "+--------+---------------------+\n",
            "|     0.1|    42.86704349517822|\n",
            "|     0.3|    47.70837998390198|\n",
            "|     0.5|    39.17559576034546|\n",
            "|     0.7|    48.38686490058899|\n",
            "|     0.9|   58.607359409332275|\n",
            "+--------+---------------------+\n",
            "\n"
          ]
        }
      ],
      "source": [
        "from pyspark.sql.types import StructType,StructField\n",
        "\n",
        "fp_frac_res = spark.createDataFrame(fpgrowth_time_res_frac.items(), \n",
        "                      schema=StructType(fields=[\n",
        "                          StructField(\"Fraction\", StringType()), \n",
        "                          StructField(\"Time Elapsed(seconds)\", StringType())]))\n",
        "\n",
        "\n",
        "fp_frac_res.show()"
      ]
    },
    {
      "cell_type": "code",
      "execution_count": null,
      "metadata": {
        "colab": {
          "base_uri": "https://localhost:8080/"
        },
        "id": "6muueFWOMJym",
        "outputId": "7912295f-0545-4fed-932e-9491af8168ec"
      },
      "outputs": [
        {
          "output_type": "stream",
          "name": "stderr",
          "text": [
            "/usr/local/lib/python3.7/dist-packages/pyspark/sql/context.py:127: FutureWarning: Deprecated in 3.0.0. Use SparkSession.builder.getOrCreate() instead.\n",
            "  FutureWarning\n"
          ]
        }
      ],
      "source": [
        "np.random.seed(1)\n",
        "\n",
        "fpGrowth = FPGrowth(itemsCol=\"words_clean\", minSupport = 0.04)\n",
        "model = fpGrowth.fit(spark_eng)\n",
        "association_rules = model.associationRules\n",
        "frequent_items = model.freqItemsets"
      ]
    },
    {
      "cell_type": "code",
      "execution_count": null,
      "metadata": {
        "colab": {
          "base_uri": "https://localhost:8080/"
        },
        "id": "IknsIRCrSyv-",
        "outputId": "9e1df08e-9b80-4d14-9b28-ade67b3f2a0a"
      },
      "outputs": [
        {
          "output_type": "stream",
          "name": "stdout",
          "text": [
            "+------------------+------+\n",
            "|items             |freq  |\n",
            "+------------------+------+\n",
            "|[ukraine]         |320002|\n",
            "|[russia]          |166416|\n",
            "|[russia, ukraine] |111956|\n",
            "|[putin]           |107214|\n",
            "|[russian]         |92945 |\n",
            "|[war]             |64892 |\n",
            "|[russian, ukraine]|62470 |\n",
            "|[putin, ukraine]  |62073 |\n",
            "|[ukrainerussiawar]|59361 |\n",
            "|[nato]            |50164 |\n",
            "|[stop]            |45816 |\n",
            "|[people]          |43362 |\n",
            "|[war, ukraine]    |42929 |\n",
            "|[stopputin]       |39778 |\n",
            "|[ukrainian]       |38344 |\n",
            "+------------------+------+\n",
            "only showing top 15 rows\n",
            "\n"
          ]
        }
      ],
      "source": [
        "frequent_items.orderBy(\"freq\",ascending=False).show(15,truncate=False)"
      ]
    },
    {
      "cell_type": "code",
      "execution_count": null,
      "metadata": {
        "colab": {
          "base_uri": "https://localhost:8080/"
        },
        "id": "2TjjsOZE7kt3",
        "outputId": "54073572-73fd-43c3-a05d-5e6fcf61f29d"
      },
      "outputs": [
        {
          "output_type": "execute_result",
          "data": {
            "text/plain": [
              "59"
            ]
          },
          "metadata": {},
          "execution_count": 40
        }
      ],
      "source": [
        "frequent_items.count()"
      ]
    },
    {
      "cell_type": "code",
      "execution_count": null,
      "metadata": {
        "colab": {
          "base_uri": "https://localhost:8080/"
        },
        "id": "5Ko6kKp1eOx4",
        "outputId": "0abe20b9-8dee-4dda-aa21-fd32ea0f77c7"
      },
      "outputs": [
        {
          "output_type": "stream",
          "name": "stdout",
          "text": [
            "+-----------------+----------+------------------+------------------+--------------------+\n",
            "|antecedent       |consequent|confidence        |lift              |support             |\n",
            "+-----------------+----------+------------------+------------------+--------------------+\n",
            "|[close]          |[ukraine] |0.9186210911510313|1.468600067798409 |0.043183173203796194|\n",
            "|[close]          |[sky]     |0.8521290751829674|18.85056909604215 |0.04005747070264776 |\n",
            "|[humanitarian]   |[ukraine] |0.928794201625302 |1.4848638253761004|0.04133199104708102 |\n",
            "|[stopputin]      |[ukraine] |0.8529589220171955|1.3636259201649017|0.0663239275556381  |\n",
            "|[potus]          |[ukraine] |0.837628134363665 |1.3391165811085048|0.05191324660600315 |\n",
            "|[nato, russia]   |[ukraine] |0.8385143474236347|1.3405333704381779|0.042498998172275274|\n",
            "|[stopputin, stop]|[ukraine] |0.9505586706503499|1.51965869454869  |0.04539990030592398 |\n",
            "|[stop]           |[ukraine] |0.8121398638030383|1.2983684682750642|0.07273562499389129 |\n",
            "|[weapons]        |[ukraine] |0.8646665846960941|1.3823429672364507|0.041240116114276776|\n",
            "|[sky]            |[close]   |0.8862938454219108|18.844426892487938|0.04005747070264776 |\n",
            "|[sky]            |[ukraine] |0.917045110505601 |1.4660805466323665|0.0414473234095374  |\n",
            "+-----------------+----------+------------------+------------------+--------------------+\n",
            "\n"
          ]
        }
      ],
      "source": [
        "association_rules.show(15,truncate=False)"
      ]
    },
    {
      "cell_type": "code",
      "execution_count": null,
      "metadata": {
        "id": "087cIXdnZ1pb"
      },
      "outputs": [],
      "source": [
        "fp_th_pd = fp_th_res.toPandas()\n",
        "\n",
        "fp_frac_pd = fp_frac_res.toPandas()\n"
      ]
    },
    {
      "cell_type": "code",
      "execution_count": null,
      "metadata": {
        "id": "4Mv94giBb7XG"
      },
      "outputs": [],
      "source": [
        "fp_th_pd[\"Threshold\"] = pd.to_numeric(fp_th_pd[\"Threshold\"])\n",
        "fp_th_pd[\"Time Elapsed(seconds)\"] = pd.to_numeric(fp_th_pd[\"Time Elapsed(seconds)\"])\n"
      ]
    },
    {
      "cell_type": "code",
      "execution_count": null,
      "metadata": {
        "colab": {
          "base_uri": "https://localhost:8080/",
          "height": 448
        },
        "id": "-TDTPASuaOI0",
        "outputId": "9f730fed-358a-4db9-fff4-a2e03c08b9d8"
      },
      "outputs": [
        {
          "output_type": "execute_result",
          "data": {
            "text/plain": [
              "Text(0, 0.5, 'Seconds')"
            ]
          },
          "metadata": {},
          "execution_count": 44
        },
        {
          "output_type": "display_data",
          "data": {
            "text/plain": [
              "<Figure size 720x432 with 1 Axes>"
            ],
            "image/png": "[encoded data removed]"
          },
          "metadata": {
            "needs_background": "light"
          }
        }
      ],
      "source": [
        "%matplotlib inline\n",
        "import matplotlib.pyplot as plt\n",
        "plt.rcParams[\"figure.figsize\"] = [10,6]\n",
        "\n",
        "fig = plt.figure()\n",
        "plt.plot(fp_th_pd[\"Threshold\"],fp_th_pd[\"Time Elapsed(seconds)\"])\n",
        "fig.suptitle('Min. Support vs Time elapsed in seconds')\n",
        "plt.xlabel('Minimum Support')\n",
        "plt.ylabel('Seconds')\n"
      ]
    },
    {
      "cell_type": "code",
      "execution_count": null,
      "metadata": {
        "id": "udW7pfwRaITH"
      },
      "outputs": [],
      "source": [
        "fp_frac_pd[\"Fraction\"] = pd.to_numeric(fp_frac_pd[\"Fraction\"])\n",
        "fp_frac_pd[\"Time Elapsed(seconds)\"] = pd.to_numeric(fp_frac_pd[\"Time Elapsed(seconds)\"])"
      ]
    },
    {
      "cell_type": "code",
      "execution_count": null,
      "metadata": {
        "colab": {
          "base_uri": "https://localhost:8080/",
          "height": 448
        },
        "id": "riQVe7ntdUXD",
        "outputId": "ca6e88ed-5cd3-4d80-f55d-a74ed44040e2"
      },
      "outputs": [
        {
          "output_type": "execute_result",
          "data": {
            "text/plain": [
              "Text(0, 0.5, 'Seconds')"
            ]
          },
          "metadata": {},
          "execution_count": 46
        },
        {
          "output_type": "display_data",
          "data": {
            "text/plain": [
              "<Figure size 720x432 with 1 Axes>"
            ],
            "image/png": "[encoded data removed]"
          },
          "metadata": {
            "needs_background": "light"
          }
        }
      ],
      "source": [
        "%matplotlib inline\n",
        "import matplotlib.pyplot as plt\n",
        "plt.rcParams[\"figure.figsize\"] = [10,6]\n",
        "\n",
        "fig = plt.figure()\n",
        "plt.plot(fp_frac_pd[\"Fraction\"],fp_frac_pd[\"Time Elapsed(seconds)\"])\n",
        "fig.suptitle('Dataset size vs Time elapsed in seconds')\n",
        "plt.xlabel('Fraction of dataset used')\n",
        "plt.ylabel('Seconds')\n"
      ]
    },
    {
      "cell_type": "code",
      "execution_count": null,
      "metadata": {
        "id": "vrbUMFgmefLq"
      },
      "outputs": [],
      "source": [
        "words_basket = spark_eng.select('words_clean').collect()\n",
        "\n",
        "\n",
        "list_words_baskets = [ row[0] for row in words_basket]\n",
        "\n",
        "# Save the actor baskets list\n",
        "f = open('list_words_baskets.txt','w')\n",
        "for el in list_words_baskets:\n",
        "    f.write(str(el)+'\\n')\n",
        "f.close()"
      ]
    },
    {
      "cell_type": "code",
      "execution_count": null,
      "metadata": {
        "id": "fCwuJuLpfLX3"
      },
      "outputs": [],
      "source": [
        "my_file = open(\"list_words_baskets.txt\", \"r\")\n",
        "list_loaded = my_file.readlines()\n",
        "list_words_baskets = [eval(el) for el in list_loaded]"
      ]
    },
    {
      "cell_type": "code",
      "execution_count": null,
      "metadata": {
        "colab": {
          "base_uri": "https://localhost:8080/"
        },
        "id": "APdT23m01SQP",
        "outputId": "5551c9c2-b9e2-41ab-8d34-1c29f906c523"
      },
      "outputs": [
        {
          "output_type": "execute_result",
          "data": {
            "text/plain": [
              "10000"
            ]
          },
          "metadata": {},
          "execution_count": 32
        }
      ],
      "source": [
        "indices = range(0,10000)\n",
        "try_set = [list_words_baskets[i] for i in indices]\n",
        "len(try_set)"
      ]
    },
    {
      "cell_type": "code",
      "execution_count": null,
      "metadata": {
        "id": "5iEnryIVf8oG",
        "colab": {
          "base_uri": "https://localhost:8080/",
          "height": 234
        },
        "outputId": "c2e0daf9-80b1-49e1-83d7-b7e75938c2f4"
      },
      "outputs": [
        {
          "output_type": "error",
          "ename": "NameError",
          "evalue": "ignored",
          "traceback": [
            "\u001b[0;31m---------------------------------------------------------------------------\u001b[0m",
            "\u001b[0;31mNameError\u001b[0m                                 Traceback (most recent call last)",
            "\u001b[0;32m<ipython-input-33-ef09785dfd43>\u001b[0m in \u001b[0;36m<module>\u001b[0;34m()\u001b[0m\n\u001b[1;32m      2\u001b[0m \u001b[0;32mdel\u001b[0m\u001b[0;34m(\u001b[0m\u001b[0mspark\u001b[0m\u001b[0;34m)\u001b[0m\u001b[0;34m\u001b[0m\u001b[0;34m\u001b[0m\u001b[0m\n\u001b[1;32m      3\u001b[0m \u001b[0;32mdel\u001b[0m\u001b[0;34m(\u001b[0m\u001b[0msc\u001b[0m\u001b[0;34m)\u001b[0m\u001b[0;34m\u001b[0m\u001b[0;34m\u001b[0m\u001b[0m\n\u001b[0;32m----> 4\u001b[0;31m \u001b[0;32mdel\u001b[0m\u001b[0;34m(\u001b[0m\u001b[0mnum_items\u001b[0m\u001b[0;34m)\u001b[0m\u001b[0;34m\u001b[0m\u001b[0;34m\u001b[0m\u001b[0m\n\u001b[0m\u001b[1;32m      5\u001b[0m \u001b[0;32mdel\u001b[0m\u001b[0;34m(\u001b[0m\u001b[0mnum_baskets\u001b[0m\u001b[0;34m)\u001b[0m\u001b[0;34m\u001b[0m\u001b[0;34m\u001b[0m\u001b[0m\n\u001b[1;32m      6\u001b[0m \u001b[0;32mdel\u001b[0m\u001b[0;34m(\u001b[0m\u001b[0mspark_eng\u001b[0m\u001b[0;34m)\u001b[0m\u001b[0;34m\u001b[0m\u001b[0;34m\u001b[0m\u001b[0m\n",
            "\u001b[0;31mNameError\u001b[0m: name 'num_items' is not defined"
          ]
        }
      ],
      "source": [
        "#Free RAM\n",
        "del(spark)\n",
        "del(sc)\n",
        "del(num_items)\n",
        "del(num_baskets)\n",
        "del(spark_eng)\n",
        "del(data_collection)\n",
        "del(df_combined)\n",
        "del(SparkSession)\n",
        "del(SparkConf)\n",
        "del(SparkContext)\n",
        "del(FPGrowth)"
      ]
    },
    {
      "cell_type": "code",
      "execution_count": null,
      "metadata": {
        "id": "th0MShwxgjPi"
      },
      "outputs": [],
      "source": [
        "from mlxtend.frequent_patterns import apriori\n",
        "from mlxtend.preprocessing import TransactionEncoder\n",
        "import plotly.express as px\n",
        "from tqdm import tqdm\n",
        "import pandas as pd\n",
        "import numpy as np\n",
        "import time "
      ]
    },
    {
      "cell_type": "code",
      "execution_count": null,
      "metadata": {
        "id": "iAXhr460A3zb"
      },
      "outputs": [],
      "source": [
        "th_res = [0.01,0.02,0.06,0.09,0.1]\n",
        "apriori_time_res = {}\n",
        "for th in th_res:\n",
        "    te = TransactionEncoder()\n",
        "    oht_ary = te.fit(try_set).transform(try_set, sparse=True)\n",
        "    sparse_df = pd.DataFrame.sparse.from_spmatrix(oht_ary, columns=te.columns_)\n",
        "    start_time = time.time()\n",
        "    res= apriori(sparse_df, min_support=th, use_colnames=True)\n",
        "    apriori_time_res[th] = time.time() - start_time"
      ]
    },
    {
      "cell_type": "code",
      "execution_count": null,
      "metadata": {
        "colab": {
          "base_uri": "https://localhost:8080/"
        },
        "id": "u8jJ2SlABeBC",
        "outputId": "57cb5c50-cb1a-4f48-c55f-4cdfb305aede"
      },
      "outputs": [
        {
          "output_type": "execute_result",
          "data": {
            "text/plain": [
              "{0.01: 155.2112021446228,\n",
              " 0.02: 14.014213800430298,\n",
              " 0.06: 13.663833856582642,\n",
              " 0.09: 13.586296081542969,\n",
              " 0.1: 13.621819257736206}"
            ]
          },
          "metadata": {},
          "execution_count": 36
        }
      ],
      "source": [
        "apriori_time_res"
      ]
    },
    {
      "cell_type": "code",
      "execution_count": null,
      "metadata": {
        "colab": {
          "base_uri": "https://localhost:8080/",
          "height": 206
        },
        "id": "K4NFwKJF4fG6",
        "outputId": "fbe2e99b-0ecc-49f3-9215-4bf34295b6ea"
      },
      "outputs": [
        {
          "output_type": "execute_result",
          "data": {
            "text/plain": [
              "   Threshold  Time Elapsed\n",
              "0       0.01    155.211202\n",
              "1       0.02     14.014214\n",
              "2       0.06     13.663834\n",
              "3       0.09     13.586296\n",
              "4       0.10     13.621819"
            ],
            "text/html": [
              "\n",
              "  <div id=\"df-8aeb11c2-9c19-45e3-ab71-99f6bbf3bb70\">\n",
              "    <div class=\"colab-df-container\">\n",
              "      <div>\n",
              "<style scoped>\n",
              "    .dataframe tbody tr th:only-of-type {\n",
              "        vertical-align: middle;\n",
              "    }\n",
              "\n",
              "    .dataframe tbody tr th {\n",
              "        vertical-align: top;\n",
              "    }\n",
              "\n",
              "    .dataframe thead th {\n",
              "        text-align: right;\n",
              "    }\n",
              "</style>\n",
              "<table border=\"1\" class=\"dataframe\">\n",
              "  <thead>\n",
              "    <tr style=\"text-align: right;\">\n",
              "      <th></th>\n",
              "      <th>Threshold</th>\n",
              "      <th>Time Elapsed</th>\n",
              "    </tr>\n",
              "  </thead>\n",
              "  <tbody>\n",
              "    <tr>\n",
              "      <th>0</th>\n",
              "      <td>0.01</td>\n",
              "      <td>155.211202</td>\n",
              "    </tr>\n",
              "    <tr>\n",
              "      <th>1</th>\n",
              "      <td>0.02</td>\n",
              "      <td>14.014214</td>\n",
              "    </tr>\n",
              "    <tr>\n",
              "      <th>2</th>\n",
              "      <td>0.06</td>\n",
              "      <td>13.663834</td>\n",
              "    </tr>\n",
              "    <tr>\n",
              "      <th>3</th>\n",
              "      <td>0.09</td>\n",
              "      <td>13.586296</td>\n",
              "    </tr>\n",
              "    <tr>\n",
              "      <th>4</th>\n",
              "      <td>0.10</td>\n",
              "      <td>13.621819</td>\n",
              "    </tr>\n",
              "  </tbody>\n",
              "</table>\n",
              "</div>\n",
              "      <button class=\"colab-df-convert\" onclick=\"convertToInteractive('df-8aeb11c2-9c19-45e3-ab71-99f6bbf3bb70')\"\n",
              "              title=\"Convert this dataframe to an interactive table.\"\n",
              "              style=\"display:none;\">\n",
              "        \n",
              "  <svg xmlns=\"http://www.w3.org/2000/svg\" height=\"24px\"viewBox=\"0 0 24 24\"\n",
              "       width=\"24px\">\n",
              "    <path d=\"M0 0h24v24H0V0z\" fill=\"none\"/>\n",
              "    <path d=\"M18.56 5.44l.94 2.06.94-2.06 2.06-.94-2.06-.94-.94-2.06-.94 2.06-2.06.94zm-11 1L8.5 8.5l.94-2.06 2.06-.94-2.06-.94L8.5 2.5l-.94 2.06-2.06.94zm10 10l.94 2.06.94-2.06 2.06-.94-2.06-.94-.94-2.06-.94 2.06-2.06.94z\"/><path d=\"M17.41 7.96l-1.37-1.37c-.4-.4-.92-.59-1.43-.59-.52 0-1.04.2-1.43.59L10.3 9.45l-7.72 7.72c-.78.78-.78 2.05 0 2.83L4 21.41c.39.39.9.59 1.41.59.51 0 1.02-.2 1.41-.59l7.78-7.78 2.81-2.81c.8-.78.8-2.07 0-2.86zM5.41 20L4 18.59l7.72-7.72 1.47 1.35L5.41 20z\"/>\n",
              "  </svg>\n",
              "      </button>\n",
              "      \n",
              "  <style>\n",
              "    .colab-df-container {\n",
              "      display:flex;\n",
              "      flex-wrap:wrap;\n",
              "      gap: 12px;\n",
              "    }\n",
              "\n",
              "    .colab-df-convert {\n",
              "      background-color: #E8F0FE;\n",
              "      border: none;\n",
              "      border-radius: 50%;\n",
              "      cursor: pointer;\n",
              "      display: none;\n",
              "      fill: #1967D2;\n",
              "      height: 32px;\n",
              "      padding: 0 0 0 0;\n",
              "      width: 32px;\n",
              "    }\n",
              "\n",
              "    .colab-df-convert:hover {\n",
              "      background-color: #E2EBFA;\n",
              "      box-shadow: 0px 1px 2px rgba(60, 64, 67, 0.3), 0px 1px 3px 1px rgba(60, 64, 67, 0.15);\n",
              "      fill: #174EA6;\n",
              "    }\n",
              "\n",
              "    [theme=dark] .colab-df-convert {\n",
              "      background-color: #3B4455;\n",
              "      fill: #D2E3FC;\n",
              "    }\n",
              "\n",
              "    [theme=dark] .colab-df-convert:hover {\n",
              "      background-color: #434B5C;\n",
              "      box-shadow: 0px 1px 3px 1px rgba(0, 0, 0, 0.15);\n",
              "      filter: drop-shadow(0px 1px 2px rgba(0, 0, 0, 0.3));\n",
              "      fill: #FFFFFF;\n",
              "    }\n",
              "  </style>\n",
              "\n",
              "      <script>\n",
              "        const buttonEl =\n",
              "          document.querySelector('#df-8aeb11c2-9c19-45e3-ab71-99f6bbf3bb70 button.colab-df-convert');\n",
              "        buttonEl.style.display =\n",
              "          google.colab.kernel.accessAllowed ? 'block' : 'none';\n",
              "\n",
              "        async function convertToInteractive(key) {\n",
              "          const element = document.querySelector('#df-8aeb11c2-9c19-45e3-ab71-99f6bbf3bb70');\n",
              "          const dataTable =\n",
              "            await google.colab.kernel.invokeFunction('convertToInteractive',\n",
              "                                                     [key], {});\n",
              "          if (!dataTable) return;\n",
              "\n",
              "          const docLinkHtml = 'Like what you see? Visit the ' +\n",
              "            '<a target=\"_blank\" href=https://colab.research.google.com/notebooks/data_table.ipynb>data table notebook</a>'\n",
              "            + ' to learn more about interactive tables.';\n",
              "          element.innerHTML = '';\n",
              "          dataTable['output_type'] = 'display_data';\n",
              "          await google.colab.output.renderOutput(dataTable, element);\n",
              "          const docLink = document.createElement('div');\n",
              "          docLink.innerHTML = docLinkHtml;\n",
              "          element.appendChild(docLink);\n",
              "        }\n",
              "      </script>\n",
              "    </div>\n",
              "  </div>\n",
              "  "
            ]
          },
          "metadata": {},
          "execution_count": 37
        }
      ],
      "source": [
        "ap_th_res = pd.DataFrame.from_dict(apriori_time_res, orient=\"index\").reset_index()\n",
        "\n",
        "new_column_list= [\"Threshold\",\"Time Elapsed\"]\n",
        "\n",
        "ap_th_res = ap_th_res.set_axis(new_column_list, axis=1)\n",
        "ap_th_res"
      ]
    },
    {
      "cell_type": "code",
      "source": [
        "te = TransactionEncoder()\n",
        "oht_ary = te.fit(try_set).transform(try_set, sparse=True)\n",
        "sparse_df = pd.DataFrame.sparse.from_spmatrix(oht_ary, columns=te.columns_)\n",
        "res= apriori(sparse_df, min_support=0.04, use_colnames=True)\n"
      ],
      "metadata": {
        "id": "OisBV4BK7otQ"
      },
      "execution_count": null,
      "outputs": []
    },
    {
      "cell_type": "code",
      "source": [
        "len(res)"
      ],
      "metadata": {
        "colab": {
          "base_uri": "https://localhost:8080/"
        },
        "id": "VeF-X93t7p-C",
        "outputId": "b786d846-1816-4ce5-d616-b4c179efed0d"
      },
      "execution_count": null,
      "outputs": [
        {
          "output_type": "execute_result",
          "data": {
            "text/plain": [
              "49"
            ]
          },
          "metadata": {},
          "execution_count": 68
        }
      ]
    },
    {
      "cell_type": "code",
      "execution_count": null,
      "metadata": {
        "id": "Af75BnVK6hyu"
      },
      "outputs": [],
      "source": [
        "te = TransactionEncoder()\n",
        "oht_ary = te.fit(try_set).transform(try_set, sparse=True)\n",
        "sparse_df = pd.DataFrame.sparse.from_spmatrix(oht_ary, columns=te.columns_)\n",
        "res= apriori(sparse_df, min_support=0.02, use_colnames=True)\n"
      ]
    },
    {
      "cell_type": "code",
      "execution_count": null,
      "metadata": {
        "colab": {
          "base_uri": "https://localhost:8080/"
        },
        "id": "De5r3HR56jQm",
        "outputId": "f33ff67b-2827-49ee-a2b4-fcf98c20c5bc"
      },
      "outputs": [
        {
          "output_type": "execute_result",
          "data": {
            "text/plain": [
              "194"
            ]
          },
          "metadata": {},
          "execution_count": 39
        }
      ],
      "source": [
        "len(res)"
      ]
    },
    {
      "cell_type": "code",
      "execution_count": null,
      "metadata": {
        "colab": {
          "base_uri": "https://localhost:8080/",
          "height": 363
        },
        "id": "fy-wcCms3Oi-",
        "outputId": "e7f679a3-8b01-48a6-8b8b-be81467949f4"
      },
      "outputs": [
        {
          "output_type": "execute_result",
          "data": {
            "text/plain": [
              "     support                     itemsets\n",
              "56    0.6397                    (ukraine)\n",
              "40    0.3512                     (russia)\n",
              "124   0.2496            (russia, ukraine)\n",
              "37    0.2461                      (putin)\n",
              "41    0.1807                    (russian)\n",
              "59    0.1762           (ukrainerussiawar)\n",
              "118   0.1430             (putin, ukraine)\n",
              "134   0.1325           (russian, ukraine)\n",
              "67    0.1235                        (war)\n",
              "146   0.1033  (ukrainerussiawar, ukraine)"
            ],
            "text/html": [
              "\n",
              "  <div id=\"df-cdb2fb62-8639-4773-849e-f1a09c3b79d9\">\n",
              "    <div class=\"colab-df-container\">\n",
              "      <div>\n",
              "<style scoped>\n",
              "    .dataframe tbody tr th:only-of-type {\n",
              "        vertical-align: middle;\n",
              "    }\n",
              "\n",
              "    .dataframe tbody tr th {\n",
              "        vertical-align: top;\n",
              "    }\n",
              "\n",
              "    .dataframe thead th {\n",
              "        text-align: right;\n",
              "    }\n",
              "</style>\n",
              "<table border=\"1\" class=\"dataframe\">\n",
              "  <thead>\n",
              "    <tr style=\"text-align: right;\">\n",
              "      <th></th>\n",
              "      <th>support</th>\n",
              "      <th>itemsets</th>\n",
              "    </tr>\n",
              "  </thead>\n",
              "  <tbody>\n",
              "    <tr>\n",
              "      <th>56</th>\n",
              "      <td>0.6397</td>\n",
              "      <td>(ukraine)</td>\n",
              "    </tr>\n",
              "    <tr>\n",
              "      <th>40</th>\n",
              "      <td>0.3512</td>\n",
              "      <td>(russia)</td>\n",
              "    </tr>\n",
              "    <tr>\n",
              "      <th>124</th>\n",
              "      <td>0.2496</td>\n",
              "      <td>(russia, ukraine)</td>\n",
              "    </tr>\n",
              "    <tr>\n",
              "      <th>37</th>\n",
              "      <td>0.2461</td>\n",
              "      <td>(putin)</td>\n",
              "    </tr>\n",
              "    <tr>\n",
              "      <th>41</th>\n",
              "      <td>0.1807</td>\n",
              "      <td>(russian)</td>\n",
              "    </tr>\n",
              "    <tr>\n",
              "      <th>59</th>\n",
              "      <td>0.1762</td>\n",
              "      <td>(ukrainerussiawar)</td>\n",
              "    </tr>\n",
              "    <tr>\n",
              "      <th>118</th>\n",
              "      <td>0.1430</td>\n",
              "      <td>(putin, ukraine)</td>\n",
              "    </tr>\n",
              "    <tr>\n",
              "      <th>134</th>\n",
              "      <td>0.1325</td>\n",
              "      <td>(russian, ukraine)</td>\n",
              "    </tr>\n",
              "    <tr>\n",
              "      <th>67</th>\n",
              "      <td>0.1235</td>\n",
              "      <td>(war)</td>\n",
              "    </tr>\n",
              "    <tr>\n",
              "      <th>146</th>\n",
              "      <td>0.1033</td>\n",
              "      <td>(ukrainerussiawar, ukraine)</td>\n",
              "    </tr>\n",
              "  </tbody>\n",
              "</table>\n",
              "</div>\n",
              "      <button class=\"colab-df-convert\" onclick=\"convertToInteractive('df-cdb2fb62-8639-4773-849e-f1a09c3b79d9')\"\n",
              "              title=\"Convert this dataframe to an interactive table.\"\n",
              "              style=\"display:none;\">\n",
              "        \n",
              "  <svg xmlns=\"http://www.w3.org/2000/svg\" height=\"24px\"viewBox=\"0 0 24 24\"\n",
              "       width=\"24px\">\n",
              "    <path d=\"M0 0h24v24H0V0z\" fill=\"none\"/>\n",
              "    <path d=\"M18.56 5.44l.94 2.06.94-2.06 2.06-.94-2.06-.94-.94-2.06-.94 2.06-2.06.94zm-11 1L8.5 8.5l.94-2.06 2.06-.94-2.06-.94L8.5 2.5l-.94 2.06-2.06.94zm10 10l.94 2.06.94-2.06 2.06-.94-2.06-.94-.94-2.06-.94 2.06-2.06.94z\"/><path d=\"M17.41 7.96l-1.37-1.37c-.4-.4-.92-.59-1.43-.59-.52 0-1.04.2-1.43.59L10.3 9.45l-7.72 7.72c-.78.78-.78 2.05 0 2.83L4 21.41c.39.39.9.59 1.41.59.51 0 1.02-.2 1.41-.59l7.78-7.78 2.81-2.81c.8-.78.8-2.07 0-2.86zM5.41 20L4 18.59l7.72-7.72 1.47 1.35L5.41 20z\"/>\n",
              "  </svg>\n",
              "      </button>\n",
              "      \n",
              "  <style>\n",
              "    .colab-df-container {\n",
              "      display:flex;\n",
              "      flex-wrap:wrap;\n",
              "      gap: 12px;\n",
              "    }\n",
              "\n",
              "    .colab-df-convert {\n",
              "      background-color: #E8F0FE;\n",
              "      border: none;\n",
              "      border-radius: 50%;\n",
              "      cursor: pointer;\n",
              "      display: none;\n",
              "      fill: #1967D2;\n",
              "      height: 32px;\n",
              "      padding: 0 0 0 0;\n",
              "      width: 32px;\n",
              "    }\n",
              "\n",
              "    .colab-df-convert:hover {\n",
              "      background-color: #E2EBFA;\n",
              "      box-shadow: 0px 1px 2px rgba(60, 64, 67, 0.3), 0px 1px 3px 1px rgba(60, 64, 67, 0.15);\n",
              "      fill: #174EA6;\n",
              "    }\n",
              "\n",
              "    [theme=dark] .colab-df-convert {\n",
              "      background-color: #3B4455;\n",
              "      fill: #D2E3FC;\n",
              "    }\n",
              "\n",
              "    [theme=dark] .colab-df-convert:hover {\n",
              "      background-color: #434B5C;\n",
              "      box-shadow: 0px 1px 3px 1px rgba(0, 0, 0, 0.15);\n",
              "      filter: drop-shadow(0px 1px 2px rgba(0, 0, 0, 0.3));\n",
              "      fill: #FFFFFF;\n",
              "    }\n",
              "  </style>\n",
              "\n",
              "      <script>\n",
              "        const buttonEl =\n",
              "          document.querySelector('#df-cdb2fb62-8639-4773-849e-f1a09c3b79d9 button.colab-df-convert');\n",
              "        buttonEl.style.display =\n",
              "          google.colab.kernel.accessAllowed ? 'block' : 'none';\n",
              "\n",
              "        async function convertToInteractive(key) {\n",
              "          const element = document.querySelector('#df-cdb2fb62-8639-4773-849e-f1a09c3b79d9');\n",
              "          const dataTable =\n",
              "            await google.colab.kernel.invokeFunction('convertToInteractive',\n",
              "                                                     [key], {});\n",
              "          if (!dataTable) return;\n",
              "\n",
              "          const docLinkHtml = 'Like what you see? Visit the ' +\n",
              "            '<a target=\"_blank\" href=https://colab.research.google.com/notebooks/data_table.ipynb>data table notebook</a>'\n",
              "            + ' to learn more about interactive tables.';\n",
              "          element.innerHTML = '';\n",
              "          dataTable['output_type'] = 'display_data';\n",
              "          await google.colab.output.renderOutput(dataTable, element);\n",
              "          const docLink = document.createElement('div');\n",
              "          docLink.innerHTML = docLinkHtml;\n",
              "          element.appendChild(docLink);\n",
              "        }\n",
              "      </script>\n",
              "    </div>\n",
              "  </div>\n",
              "  "
            ]
          },
          "metadata": {},
          "execution_count": 40
        }
      ],
      "source": [
        "res.sort_values(by=['support'],ascending=False).head(10)"
      ]
    },
    {
      "cell_type": "code",
      "execution_count": null,
      "metadata": {
        "colab": {
          "base_uri": "https://localhost:8080/"
        },
        "id": "CwmFx850CD-4",
        "outputId": "ee0a6591-68d0-4aec-bfd4-d2066fedbabb"
      },
      "outputs": [
        {
          "output_type": "stream",
          "name": "stderr",
          "text": [
            "\r  0%|          | 0/5 [00:00<?, ?it/s]"
          ]
        },
        {
          "output_type": "stream",
          "name": "stdout",
          "text": [
            "1000\n"
          ]
        },
        {
          "output_type": "stream",
          "name": "stderr",
          "text": [
            "\r 20%|██        | 1/5 [00:00<00:03,  1.11it/s]"
          ]
        },
        {
          "output_type": "stream",
          "name": "stdout",
          "text": [
            "3000\n"
          ]
        },
        {
          "output_type": "stream",
          "name": "stderr",
          "text": [
            "\r 40%|████      | 2/5 [00:04<00:07,  2.36s/it]"
          ]
        },
        {
          "output_type": "stream",
          "name": "stdout",
          "text": [
            "5000\n"
          ]
        },
        {
          "output_type": "stream",
          "name": "stderr",
          "text": [
            "\r 60%|██████    | 3/5 [00:14<00:12,  6.13s/it]"
          ]
        },
        {
          "output_type": "stream",
          "name": "stdout",
          "text": [
            "7000\n"
          ]
        },
        {
          "output_type": "stream",
          "name": "stderr",
          "text": [
            "\r 80%|████████  | 4/5 [00:30<00:09,  9.83s/it]"
          ]
        },
        {
          "output_type": "stream",
          "name": "stdout",
          "text": [
            "9000\n"
          ]
        },
        {
          "output_type": "stream",
          "name": "stderr",
          "text": [
            "100%|██████████| 5/5 [00:50<00:00, 10.17s/it]\n"
          ]
        }
      ],
      "source": [
        "fraction_sample = [0.1,0.3,0.5,0.7,0.9]\n",
        "apriori_time_res_frac = {}\n",
        "for fr in tqdm(fraction_sample):\n",
        "    list_frac = try_set[0:round(fr*len(try_set))]\n",
        "    print(len(list_frac))\n",
        "    te = TransactionEncoder() \n",
        "    oht_ary = te.fit(list_frac).transform(list_frac, sparse=True)\n",
        "    sparse_df = pd.DataFrame.sparse.from_spmatrix(oht_ary, columns=te.columns_)\n",
        "    start_time = time.time()\n",
        "    res= apriori(sparse_df, min_support=0.04, use_colnames=True)\n",
        "    apriori_time_res_frac[fr] = time.time() - start_time"
      ]
    },
    {
      "cell_type": "code",
      "execution_count": null,
      "metadata": {
        "colab": {
          "base_uri": "https://localhost:8080/"
        },
        "id": "x4kNf10NCtg1",
        "outputId": "01228497-fc49-4da7-b447-db1b924bc1a0"
      },
      "outputs": [
        {
          "output_type": "execute_result",
          "data": {
            "text/plain": [
              "{0.1: 0.6691908836364746,\n",
              " 0.3: 2.8909659385681152,\n",
              " 0.5: 8.359999418258667,\n",
              " 0.7: 14.521827936172485,\n",
              " 0.9: 19.26300048828125}"
            ]
          },
          "metadata": {},
          "execution_count": 76
        }
      ],
      "source": [
        "apriori_time_res_frac"
      ]
    },
    {
      "cell_type": "code",
      "execution_count": null,
      "metadata": {
        "colab": {
          "base_uri": "https://localhost:8080/",
          "height": 206
        },
        "id": "9vhSd9auDt79",
        "outputId": "94bbc09d-b8fa-4d27-d91c-df83675c5402"
      },
      "outputs": [
        {
          "output_type": "execute_result",
          "data": {
            "text/plain": [
              "   Fraction  Time Elapsed\n",
              "0       0.1      0.669191\n",
              "1       0.3      2.890966\n",
              "2       0.5      8.359999\n",
              "3       0.7     14.521828\n",
              "4       0.9     19.263000"
            ],
            "text/html": [
              "\n",
              "  <div id=\"df-1e7b05ad-a337-4af7-84e7-822a0152bc5d\">\n",
              "    <div class=\"colab-df-container\">\n",
              "      <div>\n",
              "<style scoped>\n",
              "    .dataframe tbody tr th:only-of-type {\n",
              "        vertical-align: middle;\n",
              "    }\n",
              "\n",
              "    .dataframe tbody tr th {\n",
              "        vertical-align: top;\n",
              "    }\n",
              "\n",
              "    .dataframe thead th {\n",
              "        text-align: right;\n",
              "    }\n",
              "</style>\n",
              "<table border=\"1\" class=\"dataframe\">\n",
              "  <thead>\n",
              "    <tr style=\"text-align: right;\">\n",
              "      <th></th>\n",
              "      <th>Fraction</th>\n",
              "      <th>Time Elapsed</th>\n",
              "    </tr>\n",
              "  </thead>\n",
              "  <tbody>\n",
              "    <tr>\n",
              "      <th>0</th>\n",
              "      <td>0.1</td>\n",
              "      <td>0.669191</td>\n",
              "    </tr>\n",
              "    <tr>\n",
              "      <th>1</th>\n",
              "      <td>0.3</td>\n",
              "      <td>2.890966</td>\n",
              "    </tr>\n",
              "    <tr>\n",
              "      <th>2</th>\n",
              "      <td>0.5</td>\n",
              "      <td>8.359999</td>\n",
              "    </tr>\n",
              "    <tr>\n",
              "      <th>3</th>\n",
              "      <td>0.7</td>\n",
              "      <td>14.521828</td>\n",
              "    </tr>\n",
              "    <tr>\n",
              "      <th>4</th>\n",
              "      <td>0.9</td>\n",
              "      <td>19.263000</td>\n",
              "    </tr>\n",
              "  </tbody>\n",
              "</table>\n",
              "</div>\n",
              "      <button class=\"colab-df-convert\" onclick=\"convertToInteractive('df-1e7b05ad-a337-4af7-84e7-822a0152bc5d')\"\n",
              "              title=\"Convert this dataframe to an interactive table.\"\n",
              "              style=\"display:none;\">\n",
              "        \n",
              "  <svg xmlns=\"http://www.w3.org/2000/svg\" height=\"24px\"viewBox=\"0 0 24 24\"\n",
              "       width=\"24px\">\n",
              "    <path d=\"M0 0h24v24H0V0z\" fill=\"none\"/>\n",
              "    <path d=\"M18.56 5.44l.94 2.06.94-2.06 2.06-.94-2.06-.94-.94-2.06-.94 2.06-2.06.94zm-11 1L8.5 8.5l.94-2.06 2.06-.94-2.06-.94L8.5 2.5l-.94 2.06-2.06.94zm10 10l.94 2.06.94-2.06 2.06-.94-2.06-.94-.94-2.06-.94 2.06-2.06.94z\"/><path d=\"M17.41 7.96l-1.37-1.37c-.4-.4-.92-.59-1.43-.59-.52 0-1.04.2-1.43.59L10.3 9.45l-7.72 7.72c-.78.78-.78 2.05 0 2.83L4 21.41c.39.39.9.59 1.41.59.51 0 1.02-.2 1.41-.59l7.78-7.78 2.81-2.81c.8-.78.8-2.07 0-2.86zM5.41 20L4 18.59l7.72-7.72 1.47 1.35L5.41 20z\"/>\n",
              "  </svg>\n",
              "      </button>\n",
              "      \n",
              "  <style>\n",
              "    .colab-df-container {\n",
              "      display:flex;\n",
              "      flex-wrap:wrap;\n",
              "      gap: 12px;\n",
              "    }\n",
              "\n",
              "    .colab-df-convert {\n",
              "      background-color: #E8F0FE;\n",
              "      border: none;\n",
              "      border-radius: 50%;\n",
              "      cursor: pointer;\n",
              "      display: none;\n",
              "      fill: #1967D2;\n",
              "      height: 32px;\n",
              "      padding: 0 0 0 0;\n",
              "      width: 32px;\n",
              "    }\n",
              "\n",
              "    .colab-df-convert:hover {\n",
              "      background-color: #E2EBFA;\n",
              "      box-shadow: 0px 1px 2px rgba(60, 64, 67, 0.3), 0px 1px 3px 1px rgba(60, 64, 67, 0.15);\n",
              "      fill: #174EA6;\n",
              "    }\n",
              "\n",
              "    [theme=dark] .colab-df-convert {\n",
              "      background-color: #3B4455;\n",
              "      fill: #D2E3FC;\n",
              "    }\n",
              "\n",
              "    [theme=dark] .colab-df-convert:hover {\n",
              "      background-color: #434B5C;\n",
              "      box-shadow: 0px 1px 3px 1px rgba(0, 0, 0, 0.15);\n",
              "      filter: drop-shadow(0px 1px 2px rgba(0, 0, 0, 0.3));\n",
              "      fill: #FFFFFF;\n",
              "    }\n",
              "  </style>\n",
              "\n",
              "      <script>\n",
              "        const buttonEl =\n",
              "          document.querySelector('#df-1e7b05ad-a337-4af7-84e7-822a0152bc5d button.colab-df-convert');\n",
              "        buttonEl.style.display =\n",
              "          google.colab.kernel.accessAllowed ? 'block' : 'none';\n",
              "\n",
              "        async function convertToInteractive(key) {\n",
              "          const element = document.querySelector('#df-1e7b05ad-a337-4af7-84e7-822a0152bc5d');\n",
              "          const dataTable =\n",
              "            await google.colab.kernel.invokeFunction('convertToInteractive',\n",
              "                                                     [key], {});\n",
              "          if (!dataTable) return;\n",
              "\n",
              "          const docLinkHtml = 'Like what you see? Visit the ' +\n",
              "            '<a target=\"_blank\" href=https://colab.research.google.com/notebooks/data_table.ipynb>data table notebook</a>'\n",
              "            + ' to learn more about interactive tables.';\n",
              "          element.innerHTML = '';\n",
              "          dataTable['output_type'] = 'display_data';\n",
              "          await google.colab.output.renderOutput(dataTable, element);\n",
              "          const docLink = document.createElement('div');\n",
              "          docLink.innerHTML = docLinkHtml;\n",
              "          element.appendChild(docLink);\n",
              "        }\n",
              "      </script>\n",
              "    </div>\n",
              "  </div>\n",
              "  "
            ]
          },
          "metadata": {},
          "execution_count": 77
        }
      ],
      "source": [
        "apriori_time_res_frac = pd.DataFrame.from_dict(apriori_time_res_frac, orient=\"index\").reset_index()\n",
        "\n",
        "new_column_list= [\"Fraction\",\"Time Elapsed\"]\n",
        "\n",
        "apriori_time_res_frac = apriori_time_res_frac.set_axis(new_column_list, axis=1)\n",
        "apriori_time_res_frac"
      ]
    },
    {
      "cell_type": "code",
      "execution_count": null,
      "metadata": {
        "colab": {
          "base_uri": "https://localhost:8080/",
          "height": 448
        },
        "id": "qyHLJljr7C6P",
        "outputId": "a74d5e92-bd6f-4b7d-edd3-1b4294fc8c01"
      },
      "outputs": [
        {
          "output_type": "execute_result",
          "data": {
            "text/plain": [
              "Text(0, 0.5, 'Seconds')"
            ]
          },
          "metadata": {},
          "execution_count": 44
        },
        {
          "output_type": "display_data",
          "data": {
            "text/plain": [
              "<Figure size 720x432 with 1 Axes>"
            ],
            "image/png": "[encoded data removed]"
          },
          "metadata": {
            "needs_background": "light"
          }
        }
      ],
      "source": [
        "%matplotlib inline\n",
        "import matplotlib.pyplot as plt\n",
        "plt.rcParams[\"figure.figsize\"] = [10,6]\n",
        "\n",
        "fig = plt.figure()\n",
        "plt.plot(ap_th_res[\"Threshold\"],ap_th_res[\"Time Elapsed\"])\n",
        "fig.suptitle('Min. Support vs Time elapsed in seconds')\n",
        "plt.xlabel('Minimum Support')\n",
        "plt.ylabel('Seconds')\n"
      ]
    },
    {
      "cell_type": "code",
      "execution_count": null,
      "metadata": {
        "colab": {
          "base_uri": "https://localhost:8080/",
          "height": 448
        },
        "id": "5KBxoypR8IPr",
        "outputId": "9b716cfe-8f99-4a1d-8ece-b142c749ae53"
      },
      "outputs": [
        {
          "output_type": "execute_result",
          "data": {
            "text/plain": [
              "Text(0, 0.5, 'Seconds')"
            ]
          },
          "metadata": {},
          "execution_count": 78
        },
        {
          "output_type": "display_data",
          "data": {
            "text/plain": [
              "<Figure size 720x432 with 1 Axes>"
            ],
            "image/png": "[encoded data removed]"
          },
          "metadata": {
            "needs_background": "light"
          }
        }
      ],
      "source": [
        "%matplotlib inline\n",
        "import matplotlib.pyplot as plt\n",
        "plt.rcParams[\"figure.figsize\"] = [10,6]\n",
        "\n",
        "fig = plt.figure()\n",
        "plt.plot(apriori_time_res_frac[\"Fraction\"],apriori_time_res_frac[\"Time Elapsed\"])\n",
        "fig.suptitle('Dataset size vs Time elapsed in seconds')\n",
        "plt.xlabel('Fraction of dataset used')\n",
        "plt.ylabel('Seconds')\n"
      ]
    }
  ],
  "metadata": {
    "colab": {
      "collapsed_sections": [],
      "name": "Copy of project_final.ipynb",
      "provenance": []
    },
    "kernelspec": {
      "display_name": "Python 3",
      "language": "python",
      "name": "python3"
    },
    "language_info": {
      "codemirror_mode": {
        "name": "ipython",
        "version": 3
      },
      "file_extension": ".py",
      "mimetype": "text/x-python",
      "name": "python",
      "nbconvert_exporter": "python",
      "pygments_lexer": "ipython3",
      "version": "3.8.5"
    }
  },
  "nbformat": 4,
  "nbformat_minor": 0
}